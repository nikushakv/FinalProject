{
 "cells": [
  {
   "cell_type": "code",
   "execution_count": 1,
   "metadata": {},
   "outputs": [],
   "source": [
    "import pandas as pd\n",
    "cesko_data = pd.read_csv('Statistics of CESKO.csv')\n"
   ]
  },
  {
   "cell_type": "code",
   "execution_count": 2,
   "metadata": {},
   "outputs": [
    {
     "name": "stdout",
     "output_type": "stream",
     "text": [
      "      Alias  Women Count  Men Count  Total Voters  Turnout  Perc Turnout  \\\n",
      "0  00.01.01         1474       1037          2511     1527          0.61   \n",
      "1  00.01.02          841        584          1425      923          0.65   \n",
      "2  00.01.03          653        506          1159      710          0.61   \n",
      "3  00.01.04          884        653          1537      931          0.61   \n",
      "4  00.01.05          858        655          1513     1085          0.72   \n",
      "\n",
      "   GD Share of the turnout  GD vote count  GD share of the perc turnout  \\\n",
      "0                  0.41192            629                      0.250498   \n",
      "1                  0.38028            351                      0.246316   \n",
      "2                  0.44366            315                      0.271786   \n",
      "3                  0.39635            369                      0.240078   \n",
      "4                  0.41382            449                      0.296761   \n",
      "\n",
      "   Unnamed: 9  \n",
      "0         NaN  \n",
      "1         NaN  \n",
      "2         NaN  \n",
      "3         NaN  \n",
      "4         NaN  \n",
      "<class 'pandas.core.frame.DataFrame'>\n",
      "RangeIndex: 3044 entries, 0 to 3043\n",
      "Data columns (total 10 columns):\n",
      " #   Column                        Non-Null Count  Dtype  \n",
      "---  ------                        --------------  -----  \n",
      " 0   Alias                         3044 non-null   object \n",
      " 1   Women Count                   3044 non-null   int64  \n",
      " 2   Men Count                     3044 non-null   int64  \n",
      " 3   Total Voters                  3044 non-null   int64  \n",
      " 4   Turnout                       3044 non-null   int64  \n",
      " 5   Perc Turnout                  3044 non-null   float64\n",
      " 6   GD Share of the turnout       3044 non-null   float64\n",
      " 7   GD vote count                 3044 non-null   int64  \n",
      " 8   GD share of the perc turnout  3044 non-null   float64\n",
      " 9   Unnamed: 9                    0 non-null      float64\n",
      "dtypes: float64(4), int64(5), object(1)\n",
      "memory usage: 237.9+ KB\n",
      "None\n"
     ]
    }
   ],
   "source": [
    "print(cesko_data.head())\n",
    "print(cesko_data.info())\n"
   ]
  },
  {
   "cell_type": "code",
   "execution_count": 3,
   "metadata": {},
   "outputs": [],
   "source": [
    "cesko_data.dropna(subset=['Perc Turnout', 'GD Share of the turnout'], inplace=True)\n"
   ]
  },
  {
   "cell_type": "code",
   "execution_count": 4,
   "metadata": {},
   "outputs": [],
   "source": [
    "cesko_data = cesko_data[cesko_data['Perc Turnout'] <= 100]\n"
   ]
  },
  {
   "cell_type": "code",
   "execution_count": 5,
   "metadata": {},
   "outputs": [
    {
     "data": {
      "image/png": "[encoded data removed]",
      "text/plain": [
       "<Figure size 640x480 with 1 Axes>"
      ]
     },
     "metadata": {},
     "output_type": "display_data"
    }
   ],
   "source": [
    "import matplotlib.pyplot as plt\n",
    "plt.boxplot(cesko_data['Perc Turnout'])\n",
    "plt.show()\n"
   ]
  }
 ],
 "metadata": {
  "kernelspec": {
   "display_name": ".venv",
   "language": "python",
   "name": "python3"
  },
  "language_info": {
   "codemirror_mode": {
    "name": "ipython",
    "version": 3
   },
   "file_extension": ".py",
   "mimetype": "text/x-python",
   "name": "python",
   "nbconvert_exporter": "python",
   "pygments_lexer": "ipython3",
   "version": "3.12.3"
  }
 },
 "nbformat": 4,
 "nbformat_minor": 2
}
